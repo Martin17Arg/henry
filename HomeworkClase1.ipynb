{
  "cells": [
    {
      "cell_type": "markdown",
      "metadata": {
        "colab_type": "text",
        "id": "view-in-github"
      },
      "source": [
        "<a href=\"https://colab.research.google.com/github/Martin17Arg/henry/blob/master/HomeworkClase1.ipynb\" target=\"_parent\"><img src=\"https://colab.research.google.com/assets/colab-badge.svg\" alt=\"Open In Colab\"/></a>"
      ]
    },
    {
      "cell_type": "markdown",
      "metadata": {
        "id": "6Jh1UdDkap0Z"
      },
      "source": [
        "# Práctica Clase 1 "
      ]
    },
    {
      "cell_type": "markdown",
      "metadata": {
        "id": "_BDcjTaeap0k"
      },
      "source": [
        "1) Crear una función capaz de convertir números enteros de base 10 a base 2. Debe recibir como parámetro el número a convertir<br>\n",
        "Consideraciones:<br> \n",
        "a. Tratar de resolverlo sin usar la función format(nro,\"b\")<br>\n",
        "b. El pdf \"conversion-de-decimal-a-binario.pdf\" puede servir de ayuda.\n"
      ]
    },
    {
      "cell_type": "code",
      "execution_count": 56,
      "metadata": {
        "id": "A7NIy8Kuap0n"
      },
      "outputs": [],
      "source": [
        "def NumeroBinario(numero):\n",
        "    '''\n",
        "    Esta función recibe como parámetro un número entero mayor ó igual a cero y lo devuelve en su \n",
        "    representación binaria. Debe recibir y devolver un valor de tipo entero.\n",
        "    En caso de que el parámetro no sea de tipo entero y mayor a -1 retorna nulo.\n",
        "    '''\n",
        "\n",
        "    if type(numero) != int or numero < 0:\n",
        "        return -1\n",
        "    else:\n",
        "        cociente = numero\n",
        "        cadena = []\n",
        "        while cociente != 0:\n",
        "            resto = cociente % 2\n",
        "            cociente = cociente // 2\n",
        "            cadena.append(resto)\n",
        "        \n",
        "        cadena.reverse()\n",
        "        binario = ''.join(str(e) for e in cadena)\n",
        "\n",
        "        return binario\n"
      ]
    },
    {
      "cell_type": "code",
      "execution_count": 57,
      "metadata": {
        "id": "sv3Bfxr7ap0q",
        "outputId": "a34cdc61-c7cb-4128-bf48-8dff2d6fd03d"
      },
      "outputs": [
        {
          "name": "stdout",
          "output_type": "stream",
          "text": [
            "2: 10\n",
            "3: 11\n",
            "4: 100\n",
            "5: 101\n",
            "6: 110\n",
            "7: 111\n",
            "8: 1000\n",
            "9: 1001\n",
            "10: 1010\n",
            "11: 1011\n",
            "12: 1100\n",
            "13: 1101\n",
            "14: 1110\n",
            "15: 1111\n",
            "16: 10000\n",
            "17: 10001\n",
            "18: 10010\n",
            "19: 10011\n",
            "20: 10100\n",
            "21: 10101\n",
            "22: 10110\n",
            "23: 10111\n",
            "24: 11000\n"
          ]
        }
      ],
      "source": [
        "#Ejemplo:\n",
        "for i in range(2,25):\n",
        "    print(f'{i}: {NumeroBinario(i)}')\n",
        "#NumeroBinario(4)"
      ]
    },
    {
      "cell_type": "markdown",
      "metadata": {
        "id": "5OHn6HEzap0u"
      },
      "source": [
        "2) Convertir de decimal a binario las fracciones 1/2, 1/3, 1/4, 1/5, 1/6, 1/7, 1/8, 1/9. Luego analizar los resultados y observar qué particularidad se encuentra en los mismos. Se puede usar Python o una calculadora, lo importante es ver si hay algo que podemos notar..."
      ]
    },
    {
      "cell_type": "markdown",
      "metadata": {
        "id": "GGzW9F_tap0v"
      },
      "source": [
        "Salida esperada:\n",
        "* Fraccion 1 / 2 en decimal: 0.5 y en binario: 0.1\n",
        "* Fraccion 1 / 3 en decimal: 0.3333333333333333 y en binario: 0.01251021428517034168213652730546110922218454369087381174762349525\n",
        "* Fraccion 1 / 4 en decimal: 0.25 y en binario: 0.01\n",
        "* Fraccion 1 / 5 en decimal: 0.2 y en binario: 0.00136122551102204409819163832766553131072621452428104857209715\n",
        "* Fraccion 1 / 6 en decimal: 0.16666666666666666 y en binario: 0.001251021428517034168213652730546110922218454369087381174762\n",
        "* Fraccion 1 / 7 en decimal: 0.14285714285714285 y en binario: 0.0012491836731462925851170234046819362187243744974898149796\n",
        "* Fraccion 1 / 8 en decimal: 0.125 y en binario: 0.001\n",
        "* Fraccion 1 / 9 en decimal: 0.1111111111111111 y en binario: 0.000137142856113227455910182036407281145632912758254116508"
      ]
    }
  ],
  "metadata": {
    "colab": {
      "include_colab_link": true,
      "name": "Homework.ipynb",
      "provenance": []
    },
    "interpreter": {
      "hash": "c85384e4cb51c8b72350f3a8712cc8351fdc3955e32a27f9b60c6242ab125f01"
    },
    "kernelspec": {
      "display_name": "Python 3.9.7 ('henry')",
      "language": "python",
      "name": "python3"
    },
    "language_info": {
      "codemirror_mode": {
        "name": "ipython",
        "version": 3
      },
      "file_extension": ".py",
      "mimetype": "text/x-python",
      "name": "python",
      "nbconvert_exporter": "python",
      "pygments_lexer": "ipython3",
      "version": "3.9.7"
    },
    "orig_nbformat": 4
  },
  "nbformat": 4,
  "nbformat_minor": 0
}
