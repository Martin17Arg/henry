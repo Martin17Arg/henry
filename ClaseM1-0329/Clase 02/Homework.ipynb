{
 "cells": [
  {
   "cell_type": "markdown",
   "metadata": {},
   "source": [
    "# Práctica Clase 2"
   ]
  },
  {
   "cell_type": "markdown",
   "metadata": {},
   "source": [
    "1) Abrir el archivo \"Emisiones_CO2.csv\" y cargar sus datos en un diccionario."
   ]
  },
  {
   "cell_type": "code",
   "execution_count": 208,
   "metadata": {},
   "outputs": [],
   "source": [
    "dicc_emisiones = {  'cod_pais' : [],\n",
    "                    'nom_pais' : [],\n",
    "                    'region' : [],\n",
    "                    'anio' : [],\n",
    "                    'co2' : [],\n",
    "                    'co2_percapita' : []}"
   ]
  },
  {
   "cell_type": "code",
   "execution_count": 209,
   "metadata": {},
   "outputs": [],
   "source": [
    "import os\n",
    "\n",
    "# with open('Emisiones_CO2.csv', 'r', encoding = 'latin-1') as f:\n",
    "\n",
    "#     for line in f.readlines()[1:]:\n",
    "#         for idx,key in enumerate(dicc_emisiones.keys()):\n",
    "#             dicc_emisiones[key].append(line.replace('\\n','').split('|')[idx])\n",
    "\n",
    "# print(dicc_emisiones['co2'])"
   ]
  },
  {
   "cell_type": "markdown",
   "metadata": {},
   "source": [
    "2) a) ¿Cuántas variables hay? <br>\n",
    "b) ¿Qué tipos de datos usar para cada una? <br>\n",
    "c) ¿Qué tipo de variables son? <br>\n",
    "d) ¿Hay valores faltantes? <br>\n",
    "e) ¿Cuál es el total de emisiones de CO2 para 'América Latina y Caribe' en el año 2010?"
   ]
  },
  {
   "cell_type": "markdown",
   "metadata": {},
   "source": [
    "3) Generar una función que reciba como parámetro un diccionario, cuyas listas de valores tienen el mismo tamaño y sus elementos enésimos están asociados. Y otros dos parámetros que indican la clave por la cual debe ordenarse y si es descendente o ascendente.\n",
    "La función debe devolver el diccionario ordenado, teniendo en cuenta de no perder la relación entre los elementos enésimos.<br>\n",
    "Recibe tres argumentos:<br>\n",
    "        diccionario:    Diccionario a ordenar.<br>\n",
    "        clave:          Clave del diccionario recibido, por la cual ordenar.<br>\n",
    "        descendente:    Un valor booleano, que al ser falso indica ordenamiento descendente y \n",
    "                        ascendente si es verdadero. \n",
    "                        Debe tratarse de un parámetro por defecto en True.<br>\n",
    "Si el parámetro diccionario no es un tipo de dato diccionario ó el parámetro clave no se encuentra dentro de las claves del diccionario, debe devolver nulo.<br>\n",
    "    Ej:<br>\n",
    "        dicc = {'clave1':['c','a','b'],\n",
    "                'clave2':['casa','auto','barco'],\n",
    "                'clave3':[3,1,2]}\n",
    "        OrdenarDiccionario(dicc, 'clave1')          debe retornar {'clave1':['a','b','c'],\n",
    "                                                                'clave2':['auto','barco','casa'],\n",
    "                                                                'clave3':[1,2,3]}\n",
    "        OrdenarDiccionario(dicc, 'clave3', False)   debe retornar {'clave1':['c','b','a'],\n",
    "                                                                'clave2':['casa','barco','auto'],\n",
    "                                                                'clave3':[3,2,1]}"
   ]
  },
  {
   "cell_type": "code",
   "execution_count": 210,
   "metadata": {},
   "outputs": [],
   "source": [
    "# Diccionario para usar de ejemplo:\n",
    "dicc = {'color':['gris','negra','celeste'],\n",
    "                'tipo':['auto','moto','barco'],\n",
    "                'numero':[1,2,3]}"
   ]
  },
  {
   "cell_type": "code",
   "execution_count": 211,
   "metadata": {},
   "outputs": [],
   "source": [
    "def OrdenarDiccionario(dic, clave, descendente = True):\n",
    "\n",
    "    lista_a_ordenar = sorted(dic[clave],reverse = descendente)\n",
    "    ord_dic = dict.fromkeys(dic.keys())\n",
    "    lista_indices = list()\n",
    "\n",
    "    for item in lista_a_ordenar:\n",
    "        indice = dic[clave].index(item)\n",
    "        lista_indices.append(indice)\n",
    "        for key in ord_dic.keys():\n",
    "            print(sorted(dic[key], key = lista_indices))\n",
    "            #print(lista)\n",
    "            #ord_dic[key] = sorted(dic[key], key = lista_indices)#.append(list(dicc[key])[indice])\n",
    "     \n",
    "    print(ord_dic)\n",
    "\n",
    "\n"
   ]
  },
  {
   "cell_type": "code",
   "execution_count": 212,
   "metadata": {},
   "outputs": [
    {
     "ename": "TypeError",
     "evalue": "'list' object is not callable",
     "output_type": "error",
     "traceback": [
      "\u001b[0;31m---------------------------------------------------------------------------\u001b[0m",
      "\u001b[0;31mTypeError\u001b[0m                                 Traceback (most recent call last)",
      "\u001b[1;32m/home/martin/dev/henry/ClaseM1-0329/Clase 02/Homework.ipynb Cell 9'\u001b[0m in \u001b[0;36m<cell line: 1>\u001b[0;34m()\u001b[0m\n\u001b[0;32m----> <a href='vscode-notebook-cell://wsl%2Bubuntu20.04lts/home/martin/dev/henry/ClaseM1-0329/Clase%2002/Homework.ipynb#ch0000009vscode-remote?line=0'>1</a>\u001b[0m OrdenarDiccionario(dicc,\u001b[39m'\u001b[39;49m\u001b[39mcolor\u001b[39;49m\u001b[39m'\u001b[39;49m,\u001b[39mFalse\u001b[39;49;00m)\n",
      "\u001b[1;32m/home/martin/dev/henry/ClaseM1-0329/Clase 02/Homework.ipynb Cell 8'\u001b[0m in \u001b[0;36mOrdenarDiccionario\u001b[0;34m(dic, clave, descendente)\u001b[0m\n\u001b[1;32m      <a href='vscode-notebook-cell://wsl%2Bubuntu20.04lts/home/martin/dev/henry/ClaseM1-0329/Clase%2002/Homework.ipynb#ch0000007vscode-remote?line=8'>9</a>\u001b[0m     lista_indices\u001b[39m.\u001b[39mappend(indice)\n\u001b[1;32m     <a href='vscode-notebook-cell://wsl%2Bubuntu20.04lts/home/martin/dev/henry/ClaseM1-0329/Clase%2002/Homework.ipynb#ch0000007vscode-remote?line=9'>10</a>\u001b[0m     \u001b[39mfor\u001b[39;00m key \u001b[39min\u001b[39;00m ord_dic\u001b[39m.\u001b[39mkeys():\n\u001b[0;32m---> <a href='vscode-notebook-cell://wsl%2Bubuntu20.04lts/home/martin/dev/henry/ClaseM1-0329/Clase%2002/Homework.ipynb#ch0000007vscode-remote?line=10'>11</a>\u001b[0m         \u001b[39mprint\u001b[39m(\u001b[39msorted\u001b[39;49m(dic[key], key \u001b[39m=\u001b[39;49m lista_indices))\n\u001b[1;32m     <a href='vscode-notebook-cell://wsl%2Bubuntu20.04lts/home/martin/dev/henry/ClaseM1-0329/Clase%2002/Homework.ipynb#ch0000007vscode-remote?line=11'>12</a>\u001b[0m         \u001b[39m#print(lista)\u001b[39;00m\n\u001b[1;32m     <a href='vscode-notebook-cell://wsl%2Bubuntu20.04lts/home/martin/dev/henry/ClaseM1-0329/Clase%2002/Homework.ipynb#ch0000007vscode-remote?line=12'>13</a>\u001b[0m         \u001b[39m#ord_dic[key] = sorted(dic[key], key = lista_indices)#.append(list(dicc[key])[indice])\u001b[39;00m\n\u001b[1;32m     <a href='vscode-notebook-cell://wsl%2Bubuntu20.04lts/home/martin/dev/henry/ClaseM1-0329/Clase%2002/Homework.ipynb#ch0000007vscode-remote?line=14'>15</a>\u001b[0m \u001b[39mprint\u001b[39m(ord_dic)\n",
      "\u001b[0;31mTypeError\u001b[0m: 'list' object is not callable"
     ]
    }
   ],
   "source": [
    "OrdenarDiccionario(dicc,'color',False)"
   ]
  },
  {
   "cell_type": "code",
   "execution_count": null,
   "metadata": {},
   "outputs": [],
   "source": []
  }
 ],
 "metadata": {
  "interpreter": {
   "hash": "c85384e4cb51c8b72350f3a8712cc8351fdc3955e32a27f9b60c6242ab125f01"
  },
  "kernelspec": {
   "display_name": "Python 3.9.7 ('henry')",
   "language": "python",
   "name": "python3"
  },
  "language_info": {
   "codemirror_mode": {
    "name": "ipython",
    "version": 3
   },
   "file_extension": ".py",
   "mimetype": "text/x-python",
   "name": "python",
   "nbconvert_exporter": "python",
   "pygments_lexer": "ipython3",
   "version": "3.9.7"
  },
  "orig_nbformat": 4
 },
 "nbformat": 4,
 "nbformat_minor": 2
}
